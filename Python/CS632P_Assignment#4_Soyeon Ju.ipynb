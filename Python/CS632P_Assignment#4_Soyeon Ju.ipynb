{
 "cells": [
  {
   "cell_type": "code",
   "execution_count": 56,
   "metadata": {},
   "outputs": [
    {
     "data": {
      "text/plain": [
       "array([[ 56. ,   0. ,   4.4,  68. ],\n",
       "       [  1.2, 104. ,  52. ,   8. ],\n",
       "       [  1.8, 135. ,  99. ,   0.9]])"
      ]
     },
     "execution_count": 56,
     "metadata": {},
     "output_type": "execute_result"
    }
   ],
   "source": [
    "import numpy as np\n",
    "# food = [Apples, Beefs, Eggs, Potatoes]\n",
    "Carb =   [56.0, 0.0, 4.4, 68.0]\n",
    "Protein =[1.2, 104.0, 52.0, 8.0]\n",
    "Fat =    [1.8, 135.0, 99.0, 0.9]\n",
    "\n",
    "a =np.array(Carb)\n",
    "b =np.array(Protein)\n",
    "c =np.array(Fat)\n",
    "\n",
    "array=np.vstack([a,b,c])\n",
    "array\n"
   ]
  },
  {
   "cell_type": "code",
   "execution_count": 55,
   "metadata": {},
   "outputs": [
    {
     "data": {
      "text/plain": [
       "array([ 59. , 239. , 155.4,  76.9])"
      ]
     },
     "execution_count": 55,
     "metadata": {},
     "output_type": "execute_result"
    }
   ],
   "source": [
    "array2=np.sum(array, axis=0)\n"
   ]
  },
  {
   "cell_type": "code",
   "execution_count": 60,
   "metadata": {},
   "outputs": [
    {
     "ename": "SyntaxError",
     "evalue": "invalid syntax (<ipython-input-60-72d17a9eda0a>, line 1)",
     "output_type": "error",
     "traceback": [
      "\u001b[0;36m  File \u001b[0;32m\"<ipython-input-60-72d17a9eda0a>\"\u001b[0;36m, line \u001b[0;32m1\u001b[0m\n\u001b[0;31m    array3=array2 / a.(range i for -1)\u001b[0m\n\u001b[0m                      ^\u001b[0m\n\u001b[0;31mSyntaxError\u001b[0m\u001b[0;31m:\u001b[0m invalid syntax\n"
     ]
    }
   ],
   "source": [
    "array3=array2 / a.(range i for -1)\n",
    "array3"
   ]
  },
  {
   "cell_type": "code",
   "execution_count": 61,
   "metadata": {},
   "outputs": [],
   "source": []
  },
  {
   "cell_type": "code",
   "execution_count": 2,
   "metadata": {},
   "outputs": [
    {
     "name": "stdout",
     "output_type": "stream",
     "text": [
      "By loop ->  [[94.93243243  0.          2.83140283 88.42652796]\n",
      " [ 2.02702703 43.51464435 33.46203346 10.40312094]\n",
      " [ 3.04054054 56.48535565 63.70656371  1.17035111]] \n",
      " process time=  1.355835\n",
      "By numpy ->  [[94.93243243  0.          2.83140283 88.42652796]\n",
      " [ 2.02702703 43.51464435 33.46203346 10.40312094]\n",
      " [ 3.04054054 56.48535565 63.70656371  1.17035111]] \n",
      " process time=  1.356589\n"
     ]
    }
   ],
   "source": [
    "import numpy as np\n",
    "import time\n",
    "list = [[56.2,0.0,4.4,68.0],[1.2,104.0,52.0,8.0],[1.8,135.0,99.0,0.9]]\n",
    "list1 = []\n",
    "for i in range(0,len(list),1):\n",
    "  a = []\n",
    "  for j in range(0,len(list[i]),1):\n",
    "    sum=0.0\n",
    "    for k in range(0,len(list),1):\n",
    "      sum=sum+list[k][j]\n",
    "  \n",
    "    a.append((list[i][j]/(sum))*100)\n",
    "  \n",
    "  list1.append(a)\n",
    "\n",
    "print(\"By loop -> \" , np.array(list1) , \"\\n\", \"process time= \", time.process_time())\n",
    "\n",
    "arr = np.array(list)\n",
    "print(\"By numpy -> \" , arr / arr.sum(axis=0)*100, \"\\n\", \"process time= \", time.process_time())"
   ]
  },
  {
   "cell_type": "code",
   "execution_count": null,
   "metadata": {},
   "outputs": [],
   "source": []
  }
 ],
 "metadata": {
  "kernelspec": {
   "display_name": "Python 3",
   "language": "python",
   "name": "python3"
  },
  "language_info": {
   "codemirror_mode": {
    "name": "ipython",
    "version": 3
   },
   "file_extension": ".py",
   "mimetype": "text/x-python",
   "name": "python",
   "nbconvert_exporter": "python",
   "pygments_lexer": "ipython3",
   "version": "3.8.5"
  }
 },
 "nbformat": 4,
 "nbformat_minor": 4
}
