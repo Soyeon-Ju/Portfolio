{
 "cells": [
  {
   "cell_type": "code",
   "execution_count": 1,
   "metadata": {},
   "outputs": [
    {
     "name": "stdout",
     "output_type": "stream",
     "text": [
      "('Soyeon', 1989) ['music', 'reading', 'travel']\n",
      "140212925842176 140212926479616\n",
      "140212925842176 140212926479616\n",
      "140212926046592 140212926479616\n",
      "('Soyeon', 1989) ['computer', 'reading', 'travel']\n"
     ]
    }
   ],
   "source": [
    "name = (\"Soyeon\", 1989)\n",
    "like = [ 'music', 'reading', 'travel']\n",
    "\n",
    "print(name, like)\n",
    "print(id(name), id(like))\n",
    "\n",
    "def Idendify(name, like):\n",
    "    print(id(name), id(like))\n",
    "    name=(\"Soyeon Ju\", 1989)\n",
    "    like[0] = 'computer'\n",
    "    print(id(name), id(like))\n",
    "  \n",
    "Idendify(name, like)\n",
    "\n",
    "print(name, like)\n"
   ]
  },
  {
   "cell_type": "code",
   "execution_count": null,
   "metadata": {},
   "outputs": [],
   "source": []
  }
 ],
 "metadata": {
  "kernelspec": {
   "display_name": "Python 3",
   "language": "python",
   "name": "python3"
  },
  "language_info": {
   "codemirror_mode": {
    "name": "ipython",
    "version": 3
   },
   "file_extension": ".py",
   "mimetype": "text/x-python",
   "name": "python",
   "nbconvert_exporter": "python",
   "pygments_lexer": "ipython3",
   "version": "3.8.5"
  }
 },
 "nbformat": 4,
 "nbformat_minor": 4
}
